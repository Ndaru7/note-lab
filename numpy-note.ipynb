{
  "nbformat": 4,
  "nbformat_minor": 0,
  "metadata": {
    "colab": {
      "provenance": [],
      "authorship_tag": "ABX9TyNGP6gVvaKwXLFBScgvuGRe",
      "include_colab_link": true
    },
    "kernelspec": {
      "name": "python3",
      "display_name": "Python 3"
    },
    "language_info": {
      "name": "python"
    }
  },
  "cells": [
    {
      "cell_type": "markdown",
      "metadata": {
        "id": "view-in-github",
        "colab_type": "text"
      },
      "source": [
        "<a href=\"https://colab.research.google.com/github/Ndaru7/note-lab/blob/main/numpy-note.ipynb\" target=\"_parent\"><img src=\"https://colab.research.google.com/assets/colab-badge.svg\" alt=\"Open In Colab\"/></a>"
      ]
    },
    {
      "cell_type": "markdown",
      "source": [
        "<h1><b>Terminal</b></h1>"
      ],
      "metadata": {
        "id": "ciJHiZUBknof"
      }
    },
    {
      "cell_type": "code",
      "execution_count": 1,
      "metadata": {
        "colab": {
          "base_uri": "https://localhost:8080/"
        },
        "id": "ncp7Y_25kh8r",
        "outputId": "97808f02-c9e3-44cb-d4db-bfac836692ed"
      },
      "outputs": [
        {
          "output_type": "stream",
          "name": "stdout",
          "text": [
            "\u001b[0m\u001b[01;34msample_data\u001b[0m/\n"
          ]
        }
      ],
      "source": [
        "%ls"
      ]
    },
    {
      "cell_type": "markdown",
      "source": [
        "<h1><b>Text Editor</b></h1>"
      ],
      "metadata": {
        "id": "am3IFmVLkpAu"
      }
    },
    {
      "cell_type": "code",
      "source": [],
      "metadata": {
        "id": "RdOZ75PCkpLQ"
      },
      "execution_count": null,
      "outputs": []
    }
  ]
}