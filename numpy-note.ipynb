{
  "nbformat": 4,
  "nbformat_minor": 0,
  "metadata": {
    "colab": {
      "provenance": [],
      "authorship_tag": "ABX9TyMqJ5VvRaeWBTCpu5CiJMeh",
      "include_colab_link": true
    },
    "kernelspec": {
      "name": "python3",
      "display_name": "Python 3"
    },
    "language_info": {
      "name": "python"
    }
  },
  "cells": [
    {
      "cell_type": "markdown",
      "metadata": {
        "id": "view-in-github",
        "colab_type": "text"
      },
      "source": [
        "<a href=\"https://colab.research.google.com/github/Ndaru7/note-lab/blob/main/numpy-note.ipynb\" target=\"_parent\"><img src=\"https://colab.research.google.com/assets/colab-badge.svg\" alt=\"Open In Colab\"/></a>"
      ]
    },
    {
      "cell_type": "markdown",
      "source": [
        "<h1><b>Terminal</b></h1>"
      ],
      "metadata": {
        "id": "ciJHiZUBknof"
      }
    },
    {
      "cell_type": "code",
      "execution_count": null,
      "metadata": {
        "colab": {
          "base_uri": "https://localhost:8080/"
        },
        "id": "ncp7Y_25kh8r",
        "outputId": "97808f02-c9e3-44cb-d4db-bfac836692ed"
      },
      "outputs": [
        {
          "output_type": "stream",
          "name": "stdout",
          "text": [
            "\u001b[0m\u001b[01;34msample_data\u001b[0m/\n"
          ]
        }
      ],
      "source": [
        "%ls"
      ]
    },
    {
      "cell_type": "markdown",
      "source": [
        "<h1><b>Text Editor</b></h1>"
      ],
      "metadata": {
        "id": "am3IFmVLkpAu"
      }
    },
    {
      "cell_type": "code",
      "source": [
        "import numpy as np\n",
        "\n",
        "_0d = np.array(7)\n",
        "_1d = np.array([2,6,8,6,5])\n",
        "_2d = np.array([[8,6,9],[0,1,7]])\n",
        "_3d = np.array([[[2,6],[0,8]],[[9,4],[4,7]]])\n",
        "\n",
        "print(_3d.ndim)"
      ],
      "metadata": {
        "id": "RdOZ75PCkpLQ",
        "outputId": "756989fd-ba5c-44cc-b7b9-6bac92f7a8cc",
        "colab": {
          "base_uri": "https://localhost:8080/"
        }
      },
      "execution_count": 10,
      "outputs": [
        {
          "output_type": "stream",
          "name": "stdout",
          "text": [
            "3\n"
          ]
        }
      ]
    }
  ]
}